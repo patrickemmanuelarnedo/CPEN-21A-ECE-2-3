{
  "nbformat": 4,
  "nbformat_minor": 0,
  "metadata": {
    "colab": {
      "name": "Midterm Exam.ipynb",
      "provenance": [],
      "collapsed_sections": [],
      "authorship_tag": "ABX9TyMGAL7f1P/FxvqPNnQwnFjm",
      "include_colab_link": true
    },
    "kernelspec": {
      "name": "python3",
      "display_name": "Python 3"
    },
    "language_info": {
      "name": "python"
    }
  },
  "cells": [
    {
      "cell_type": "markdown",
      "metadata": {
        "id": "view-in-github",
        "colab_type": "text"
      },
      "source": [
        "<a href=\"https://colab.research.google.com/github/patrickemmanuelarnedo/CPEN-21A-ECE-2-3/blob/main/Midterm_Exam.ipynb\" target=\"_parent\"><img src=\"https://colab.research.google.com/assets/colab-badge.svg\" alt=\"Open In Colab\"/></a>"
      ]
    },
    {
      "cell_type": "markdown",
      "metadata": {
        "id": "yC6FyzKBswLt"
      },
      "source": [
        "#Midterm Exam"
      ]
    },
    {
      "cell_type": "markdown",
      "metadata": {
        "id": "URlk6y2s0KIt"
      },
      "source": [
        "###Problem Statement 1"
      ]
    },
    {
      "cell_type": "code",
      "metadata": {
        "colab": {
          "base_uri": "https://localhost:8080/"
        },
        "id": "2CDDyp-AsTsA",
        "outputId": "91bf54c8-a0eb-41ef-c5e9-29873d0d5272"
      },
      "source": [
        "a=\"Patrick Emmanuel S. Arnedo\"\n",
        "b=\"202014285\"\n",
        "c=\"19 Years Old\"\n",
        "d=\"March 13, 2002\"\n",
        "e=\"126 Meadowville Subd. Pasong Buaya 2, Imus City, Cavite\"\n",
        "f=\"CPEN 21A - Programming and Logic and Design\"\n",
        "g=\"1.33\"\n",
        "\n",
        "print(\"Name: \"+a)\n",
        "print(\"Student Number: \"+b)\n",
        "print(\"Age: \"+c)\n",
        "print(\"Birthday: \"+d)\n",
        "print(\"Address: \"+e)\n",
        "print(\"Course: \"+f)\n",
        "print(\"Last Sem GWA: \"+g)"
      ],
      "execution_count": 70,
      "outputs": [
        {
          "output_type": "stream",
          "name": "stdout",
          "text": [
            "Name: Patrick Emmanuel S. Arnedo\n",
            "Student Number: 202014285\n",
            "Age: 19 Years Old\n",
            "Birthday: March 13, 2002\n",
            "Address: 126 Meadowville Subd. Pasong Buaya 2, Imus City, Cavite\n",
            "Course: CPEN 21A - Programming and Logic and Design\n",
            "Last Sem GWA: 1.33\n"
          ]
        }
      ]
    },
    {
      "cell_type": "markdown",
      "metadata": {
        "id": "XoNJyR-50Pkz"
      },
      "source": [
        "###Problem Statement 2"
      ]
    },
    {
      "cell_type": "code",
      "metadata": {
        "colab": {
          "base_uri": "https://localhost:8080/"
        },
        "id": "et-oaYcyu_BX",
        "outputId": "f83dac75-3728-4416-9f88-6ad8ded7510d"
      },
      "source": [
        "n=4\n",
        "answ=\"Y\"\n",
        "print(\"a.\",(2<n) and (n<6))\n",
        "print(\"b.\",(2<n) or (n==6))\n",
        "print(\"c.\",not(2<n) or (n==6))\n",
        "print(\"d.\",not(n<6))\n",
        "print(\"e.\",(answ==\"Y\") or (answ==\"y\"))\n",
        "print(\"f.\",(answ==\"Y\") and (answ==\"y\"))\n",
        "print(\"g.\",not(answ==\"y\"))\n",
        "print(\"h.\",(2<n) and (n==5+1) or (answ==\"No\"))\n",
        "print(\"i.\",(n==2) and (n==7) or (answ==\"Y\"))\n",
        "print(\"j.\",(n==2) and ((n==7) or (answ==\"Y\")))"
      ],
      "execution_count": 71,
      "outputs": [
        {
          "output_type": "stream",
          "name": "stdout",
          "text": [
            "a. True\n",
            "b. True\n",
            "c. False\n",
            "d. False\n",
            "e. True\n",
            "f. False\n",
            "g. True\n",
            "h. False\n",
            "i. True\n",
            "j. False\n"
          ]
        }
      ]
    },
    {
      "cell_type": "markdown",
      "metadata": {
        "id": "_THHC0mE0TFh"
      },
      "source": [
        "###Problem Statement 3"
      ]
    },
    {
      "cell_type": "code",
      "metadata": {
        "colab": {
          "base_uri": "https://localhost:8080/"
        },
        "id": "JOqyJv9X0WVS",
        "outputId": "d80aa914-52ae-47b3-f6b9-54b9a417d5af"
      },
      "source": [
        "x=2\n",
        "y=-3\n",
        "w=7\n",
        "z=-10\n",
        "\n",
        "print(\"a.\",x/y)\n",
        "print(\"b.\",w/y/x)\n",
        "print(\"c.\",z/y%x)\n",
        "print(\"d.\",x%-y*w)\n",
        "print(\"e.\",x%y)\n",
        "print(\"f.\",z%w-y/x*5+5)\n",
        "print(\"g.\",9-x%(2+y))\n",
        "print(\"h.\",z//w)\n",
        "print(\"i.\",(2+y)**2)\n",
        "print(\"j.\",w/x*2)"
      ],
      "execution_count": 72,
      "outputs": [
        {
          "output_type": "stream",
          "name": "stdout",
          "text": [
            "a. -0.6666666666666666\n",
            "b. -1.1666666666666667\n",
            "c. 1.3333333333333335\n",
            "d. 14\n",
            "e. -1\n",
            "f. 16.5\n",
            "g. 9\n",
            "h. -2\n",
            "i. 1\n",
            "j. 7.0\n"
          ]
        }
      ]
    }
  ]
}