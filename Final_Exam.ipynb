{
  "nbformat": 4,
  "nbformat_minor": 0,
  "metadata": {
    "colab": {
      "name": "Final Exam.ipynb",
      "provenance": [],
      "collapsed_sections": [],
      "authorship_tag": "ABX9TyO3UhgqifN07BKli9+EXQOB",
      "include_colab_link": true
    },
    "kernelspec": {
      "name": "python3",
      "display_name": "Python 3"
    },
    "language_info": {
      "name": "python"
    }
  },
  "cells": [
    {
      "cell_type": "markdown",
      "metadata": {
        "id": "view-in-github",
        "colab_type": "text"
      },
      "source": [
        "<a href=\"https://colab.research.google.com/github/patrickemmanuelarnedo/CPEN-21A-ECE-2-3/blob/main/Final_Exam.ipynb\" target=\"_parent\"><img src=\"https://colab.research.google.com/assets/colab-badge.svg\" alt=\"Open In Colab\"/></a>"
      ]
    },
    {
      "cell_type": "markdown",
      "source": [
        "#Final Exam"
      ],
      "metadata": {
        "id": "-slJg5EzQox-"
      }
    },
    {
      "cell_type": "markdown",
      "source": [
        "###Problem Statement 1"
      ],
      "metadata": {
        "id": "l8R5nLwxQxzo"
      }
    },
    {
      "cell_type": "code",
      "execution_count": null,
      "metadata": {
        "colab": {
          "base_uri": "https://localhost:8080/"
        },
        "id": "l_iX1fLKQehr",
        "outputId": "4d58ee8f-8483-4d72-c9ff-b68d40f0a578"
      },
      "outputs": [
        {
          "output_type": "stream",
          "name": "stdout",
          "text": [
            "-5\n"
          ]
        }
      ],
      "source": [
        "\n",
        "#Create a Python program that will produce an output of sum of 10 numbers less than 5 using FOR LOOP statement.n=0\n",
        "z=(-5,-4,-3,-2,-1,0,1,2,3,4)\n",
        "for x in z:\n",
        "  n+=x\n",
        "print (n)"
      ]
    },
    {
      "cell_type": "markdown",
      "source": [
        "###Problem Statement 2"
      ],
      "metadata": {
        "id": "A6Z0F2AWzloK"
      }
    },
    {
      "cell_type": "code",
      "source": [
        "#Create a Python program that will produce accept five numbers and determine the sum of first and last number among the five numbers entered using WHILE LOOP\n",
        "m=0\n",
        "number1=0\n",
        "number5=0\n",
        "\n",
        "while m<5:\n",
        "  user_input=float(input(\"Input a number: \"))\n",
        "  m+=1\n",
        "  if m==1:\n",
        "    number1=user_input\n",
        "  elif m==5:\n",
        "    number5=user_input\n",
        "print(\"The sum of the First and Last Numeber is: \", number1+number5)"
      ],
      "metadata": {
        "id": "iaQaDKMfzoXo",
        "colab": {
          "base_uri": "https://localhost:8080/"
        },
        "outputId": "93b3cfb7-cf78-43b5-f1ea-dad21fb58c73"
      },
      "execution_count": 22,
      "outputs": [
        {
          "output_type": "stream",
          "name": "stdout",
          "text": [
            "Input a number: 1\n",
            "Input a number: 23.69874\n",
            "Input a number: 101.55687523\n",
            "Input a number: 13545.4156\n",
            "Input a number: 1.4536354\n",
            "The sum of the First and Last Numeber is:  2.4536354\n"
          ]
        }
      ]
    },
    {
      "cell_type": "markdown",
      "source": [
        "###Problem Statement 3"
      ],
      "metadata": {
        "id": "UvWBHx7a0ma9"
      }
    },
    {
      "cell_type": "code",
      "source": [
        "#Create a Python program to calculate student grades. It accepts a numerical grade as input and it will display the character grade as output based on the given scale:\n",
        "grade=float(input(\"Please enter grade: \"))\n",
        "\n",
        "if grade>=90:\n",
        "  print(\"Grade: A\")\n",
        "else:\n",
        "  if grade>=80:\n",
        "    print(\"Grade: B\")\n",
        "  else:\n",
        "    if grade>=70:\n",
        "      print(\"Grade: C\")\n",
        "    else:\n",
        "      if grade>=60:\n",
        "        print(\"Grade: D\")\n",
        "      else:\n",
        "        print(\"Grade: F\")"
      ],
      "metadata": {
        "colab": {
          "base_uri": "https://localhost:8080/"
        },
        "id": "dsHHrSXUSyfZ",
        "outputId": "da11a7d7-6208-4433-fb43-f0b961e9746b"
      },
      "execution_count": 23,
      "outputs": [
        {
          "output_type": "stream",
          "name": "stdout",
          "text": [
            "Please enter grade: 69.9\n",
            "Grade: D\n"
          ]
        }
      ]
    }
  ]
}