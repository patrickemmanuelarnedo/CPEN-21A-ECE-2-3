{
  "nbformat": 4,
  "nbformat_minor": 0,
  "metadata": {
    "colab": {
      "name": "Lab1.ipynb",
      "provenance": [],
      "collapsed_sections": [],
      "authorship_tag": "ABX9TyP/NG8dwKt3oORkbKftkDYg",
      "include_colab_link": true
    },
    "kernelspec": {
      "name": "python3",
      "display_name": "Python 3"
    },
    "language_info": {
      "name": "python"
    }
  },
  "cells": [
    {
      "cell_type": "markdown",
      "metadata": {
        "id": "view-in-github",
        "colab_type": "text"
      },
      "source": [
        "<a href=\"https://colab.research.google.com/github/patrickemmanuelarnedo/CPEN-21A-ECE-2-3/blob/main/Lab1.ipynb\" target=\"_parent\"><img src=\"https://colab.research.google.com/assets/colab-badge.svg\" alt=\"Open In Colab\"/></a>"
      ]
    },
    {
      "cell_type": "markdown",
      "metadata": {
        "id": "lyX9ZUijgLe6"
      },
      "source": [
        "#Laboratory 1"
      ]
    },
    {
      "cell_type": "code",
      "metadata": {
        "colab": {
          "base_uri": "https://localhost:8080/"
        },
        "id": "BJCNNAXhgSXA",
        "outputId": "c9a139c5-484b-4d62-91d6-ee0531591036"
      },
      "source": [
        "print (\"Welcome to Python Programming\")"
      ],
      "execution_count": null,
      "outputs": [
        {
          "output_type": "stream",
          "name": "stdout",
          "text": [
            "Welcome to Python Programming\n"
          ]
        }
      ]
    },
    {
      "cell_type": "code",
      "metadata": {
        "colab": {
          "base_uri": "https://localhost:8080/"
        },
        "id": "NMEoTBOAutRL",
        "outputId": "60636117-5558-49a6-9f7f-1a86bb89e0ea"
      },
      "source": [
        "Name=\"Patrick Emmanuel S. Arnedo\"\n",
        "Address=\"Blk 9 Lot 5 Meadowville Subdvision, Pasong Buaya 2, Imus City, Cavite\"\n",
        "Age=\"19 years old\"\n",
        "print (\"Name: \"+Name)\n",
        "print (\"Address: \" +Address)\n",
        "print (\"Age: \"+Age)"
      ],
      "execution_count": 32,
      "outputs": [
        {
          "output_type": "stream",
          "name": "stdout",
          "text": [
            "Name: Patrick Emmanuel S. Arnedo\n",
            "Address: Blk 9 Lot 5 Meadowville Subdvision, Pasong Buaya 2, Imus City, Cavite\n",
            "Age: 19 years old\n"
          ]
        }
      ]
    }
  ]
}