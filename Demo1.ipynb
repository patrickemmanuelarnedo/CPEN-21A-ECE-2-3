{
  "nbformat": 4,
  "nbformat_minor": 0,
  "metadata": {
    "colab": {
      "name": "Demo1.ipynb",
      "provenance": [],
      "collapsed_sections": [],
      "authorship_tag": "ABX9TyM5BZ4b9/t6LPD15an07HNt",
      "include_colab_link": true
    },
    "kernelspec": {
      "name": "python3",
      "display_name": "Python 3"
    },
    "language_info": {
      "name": "python"
    }
  },
  "cells": [
    {
      "cell_type": "markdown",
      "metadata": {
        "id": "view-in-github",
        "colab_type": "text"
      },
      "source": [
        "<a href=\"https://colab.research.google.com/github/patrickemmanuelarnedo/CPEN-21A-ECE-2-3/blob/main/Demo1.ipynb\" target=\"_parent\"><img src=\"https://colab.research.google.com/assets/colab-badge.svg\" alt=\"Open In Colab\"/></a>"
      ]
    },
    {
      "cell_type": "markdown",
      "metadata": {
        "id": "IKIPWf3djmGM"
      },
      "source": [
        "#Python Indention"
      ]
    },
    {
      "cell_type": "code",
      "metadata": {
        "colab": {
          "base_uri": "https://localhost:8080/"
        },
        "id": "1PFdzVqBjrle",
        "outputId": "fab1c5be-b14c-41dc-eb72-72173b585bc7"
      },
      "source": [
        "if 5>2:\n",
        "  print (\"Five is greater than two\") #This code shows a string of words"
      ],
      "execution_count": 2,
      "outputs": [
        {
          "output_type": "stream",
          "name": "stdout",
          "text": [
            "Five is greater than two\n"
          ]
        }
      ]
    },
    {
      "cell_type": "code",
      "metadata": {
        "colab": {
          "base_uri": "https://localhost:8080/"
        },
        "id": "sZptRxzG5HFk",
        "outputId": "fe750b5d-65b2-4f0c-be19-cf10b42452dc"
      },
      "source": [
        "myvar = \"John\"\n",
        "print (myvar)"
      ],
      "execution_count": 53,
      "outputs": [
        {
          "output_type": "stream",
          "name": "stdout",
          "text": [
            "John\n"
          ]
        }
      ]
    },
    {
      "cell_type": "markdown",
      "metadata": {
        "id": "SfltRt-vl2dO"
      },
      "source": [
        "##Python Variable"
      ]
    },
    {
      "cell_type": "code",
      "metadata": {
        "colab": {
          "base_uri": "https://localhost:8080/"
        },
        "id": "9d6-UBTDl87M",
        "outputId": "389e33cc-f455-49b2-f86b-84d39ec70780"
      },
      "source": [
        "x=1\n",
        "a,b,c=-0,-1,2\n",
        "print (a)\n",
        "print (b)\n",
        "print (c)"
      ],
      "execution_count": 56,
      "outputs": [
        {
          "output_type": "stream",
          "name": "stdout",
          "text": [
            "0\n",
            "-1\n",
            "2\n"
          ]
        }
      ]
    },
    {
      "cell_type": "markdown",
      "metadata": {
        "id": "_Z_TI7BHwHAt"
      },
      "source": [
        "##Casting"
      ]
    },
    {
      "cell_type": "code",
      "metadata": {
        "colab": {
          "base_uri": "https://localhost:8080/"
        },
        "id": "kIsUKvFPwJcg",
        "outputId": "374eb9b9-5f84-4b8f-8f80-83374a5245d6"
      },
      "source": [
        "b=\"sally\" #This is a type of string\n",
        "b=int(4)\n",
        "\n",
        "print (b)\n",
        "print (float(b))\n",
        "print (int(b))\n",
        "print (type(b))\n",
        "print (type (x))"
      ],
      "execution_count": 9,
      "outputs": [
        {
          "output_type": "stream",
          "name": "stdout",
          "text": [
            "4\n",
            "4.0\n",
            "4\n",
            "<class 'int'>\n",
            "<class 'int'>\n"
          ]
        }
      ]
    },
    {
      "cell_type": "markdown",
      "metadata": {
        "id": "yovsto97xbn3"
      },
      "source": [
        "###Using Double quotes or Single quotes"
      ]
    },
    {
      "cell_type": "code",
      "metadata": {
        "colab": {
          "base_uri": "https://localhost:8080/"
        },
        "id": "QPALcqIRxrhw",
        "outputId": "4dbc6ef5-ec74-49c4-879f-939222bd2fd5"
      },
      "source": [
        "d=\"John\"\n",
        "e='Patrick'\n",
        "\n",
        "print (d)\n",
        "print (e)"
      ],
      "execution_count": 57,
      "outputs": [
        {
          "output_type": "stream",
          "name": "stdout",
          "text": [
            "John\n",
            "Patrick\n"
          ]
        }
      ]
    },
    {
      "cell_type": "markdown",
      "metadata": {
        "id": "JjEyF2AFx85K"
      },
      "source": [
        "##Case Sensitive"
      ]
    },
    {
      "cell_type": "code",
      "metadata": {
        "colab": {
          "base_uri": "https://localhost:8080/"
        },
        "id": "nczxYSV4yA9W",
        "outputId": "d06da9bb-d53f-49b9-e73b-1ce420f338dd"
      },
      "source": [
        "f=4\n",
        "F=\"Mark\"\n",
        "print (f)\n",
        "print (F)"
      ],
      "execution_count": 58,
      "outputs": [
        {
          "output_type": "stream",
          "name": "stdout",
          "text": [
            "4\n",
            "Mark\n"
          ]
        }
      ]
    },
    {
      "cell_type": "markdown",
      "metadata": {
        "id": "aYg44KvVzEax"
      },
      "source": [
        "##One Value to Multiple Variables"
      ]
    },
    {
      "cell_type": "code",
      "metadata": {
        "colab": {
          "base_uri": "https://localhost:8080/"
        },
        "id": "a7sG-V5xyY8B",
        "outputId": "81c2b411-f9e7-4fee-fdaa-2eba70576a36"
      },
      "source": [
        "l=m=n=\"seven\"\n",
        "print (l)\n",
        "print (m)\n",
        "print (n)"
      ],
      "execution_count": 15,
      "outputs": [
        {
          "output_type": "stream",
          "name": "stdout",
          "text": [
            "seven\n",
            "seven\n",
            "seven\n"
          ]
        }
      ]
    },
    {
      "cell_type": "markdown",
      "metadata": {
        "id": "MFLCFmrlzG4l"
      },
      "source": [
        "##Output Variables"
      ]
    },
    {
      "cell_type": "code",
      "metadata": {
        "colab": {
          "base_uri": "https://localhost:8080/"
        },
        "id": "qq-0I8lvzN7I",
        "outputId": "acdfe150-595c-4cfb-acfb-58cbcb56c2f3"
      },
      "source": [
        "x=\"enjoying\"\n",
        "y=\"Python is \"\n",
        "z= y + x\n",
        "print (\"Python programming is enjoying\")\n",
        "print (\"Python programming is \" + x)\n",
        "print (z)"
      ],
      "execution_count": 59,
      "outputs": [
        {
          "output_type": "stream",
          "name": "stdout",
          "text": [
            "Python programming is enjoying\n",
            "Python programming is enjoying\n",
            "Python is enjoying\n"
          ]
        }
      ]
    },
    {
      "cell_type": "markdown",
      "metadata": {
        "id": "fT9cdjKA0Cxr"
      },
      "source": [
        "##Arithmetic Operation"
      ]
    },
    {
      "cell_type": "code",
      "metadata": {
        "colab": {
          "base_uri": "https://localhost:8080/"
        },
        "id": "dDV5CZVw0Fzb",
        "outputId": "dcf77058-c900-4975-ed41-4fcf571ab24a"
      },
      "source": [
        "x=5\n",
        "y=3\n",
        "sum=x+y\n",
        "print (x+y)\n",
        "sum"
      ],
      "execution_count": 27,
      "outputs": [
        {
          "output_type": "stream",
          "name": "stdout",
          "text": [
            "8\n"
          ]
        },
        {
          "output_type": "execute_result",
          "data": {
            "text/plain": [
              "8"
            ]
          },
          "metadata": {},
          "execution_count": 27
        }
      ]
    },
    {
      "cell_type": "markdown",
      "metadata": {
        "id": "r0wP1KW00ns3"
      },
      "source": [
        "##Assignment Operators"
      ]
    },
    {
      "cell_type": "code",
      "metadata": {
        "colab": {
          "base_uri": "https://localhost:8080/"
        },
        "id": "82EFSPoz0p6W",
        "outputId": "02192e66-82a9-42c2-978b-50eb5a365d4d"
      },
      "source": [
        "a,b,c,=0,-1,6\n",
        "c%=3\n",
        "b+=10\n",
        "print (b)\n",
        "print (c)\n",
        "b\n"
      ],
      "execution_count": 60,
      "outputs": [
        {
          "output_type": "stream",
          "name": "stdout",
          "text": [
            "9\n",
            "0\n"
          ]
        },
        {
          "output_type": "execute_result",
          "data": {
            "text/plain": [
              "9"
            ]
          },
          "metadata": {},
          "execution_count": 60
        }
      ]
    },
    {
      "cell_type": "markdown",
      "metadata": {
        "id": "CGxGOpoK1yqB"
      },
      "source": [
        "##Logical Operators"
      ]
    },
    {
      "cell_type": "code",
      "metadata": {
        "colab": {
          "base_uri": "https://localhost:8080/"
        },
        "id": "NMdOnjru11bd",
        "outputId": "f85cd854-a720-48db-976f-b3a78e044114"
      },
      "source": [
        "a,b,c=0,-1,6\n",
        "a>b and c>b"
      ],
      "execution_count": 61,
      "outputs": [
        {
          "output_type": "execute_result",
          "data": {
            "text/plain": [
              "True"
            ]
          },
          "metadata": {},
          "execution_count": 61
        }
      ]
    },
    {
      "cell_type": "code",
      "metadata": {
        "colab": {
          "base_uri": "https://localhost:8080/"
        },
        "id": "hnDufSNO2RXT",
        "outputId": "0d758a05-1fdc-472f-805a-e03f3ce6153d"
      },
      "source": [
        "a,b,c=0,-1,6\n",
        "a>b or c<b"
      ],
      "execution_count": 62,
      "outputs": [
        {
          "output_type": "execute_result",
          "data": {
            "text/plain": [
              "True"
            ]
          },
          "metadata": {},
          "execution_count": 62
        }
      ]
    },
    {
      "cell_type": "code",
      "metadata": {
        "colab": {
          "base_uri": "https://localhost:8080/"
        },
        "id": "AmEJCiGl2WW1",
        "outputId": "ecd76e24-752c-4c68-8fe5-150bb5e1b7a5"
      },
      "source": [
        "a,b,c=0,-1,6\n",
        "not(a>b and c>b)"
      ],
      "execution_count": 63,
      "outputs": [
        {
          "output_type": "execute_result",
          "data": {
            "text/plain": [
              "False"
            ]
          },
          "metadata": {},
          "execution_count": 63
        }
      ]
    },
    {
      "cell_type": "markdown",
      "metadata": {
        "id": "39WrvZGY2rIC"
      },
      "source": [
        "##Identity Operators"
      ]
    },
    {
      "cell_type": "code",
      "metadata": {
        "colab": {
          "base_uri": "https://localhost:8080/"
        },
        "id": "PsPKgGSE2uIg",
        "outputId": "e27fb594-15a2-44df-c61f-62d0002de7f6"
      },
      "source": [
        "a,b,c=0,-1,6\n",
        "a is c"
      ],
      "execution_count": 47,
      "outputs": [
        {
          "output_type": "execute_result",
          "data": {
            "text/plain": [
              "False"
            ]
          },
          "metadata": {},
          "execution_count": 47
        }
      ]
    }
  ]
}